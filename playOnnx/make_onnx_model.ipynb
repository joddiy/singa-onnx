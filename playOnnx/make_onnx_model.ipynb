{
 "cells": [
  {
   "cell_type": "code",
   "execution_count": 1,
   "metadata": {
    "ExecuteTime": {
     "end_time": "2018-11-01T12:26:07.596188Z",
     "start_time": "2018-11-01T12:26:07.168777Z"
    }
   },
   "outputs": [],
   "source": [
    "from __future__ import absolute_import\n",
    "from __future__ import division\n",
    "from __future__ import print_function\n",
    "from __future__ import unicode_literals\n",
    "\n",
    "import onnx\n",
    "from onnx import helper\n",
    "from onnx import AttributeProto, TensorProto, GraphProto\n",
    "from onnx import numpy_helper\n",
    "import numpy as np\n",
    "\n",
    "# The protobuf definition can be found here:\n",
    "# https://github.com/onnx/onnx/blob/master/onnx/onnx.proto"
   ]
  },
  {
   "cell_type": "code",
   "execution_count": 2,
   "metadata": {
    "ExecuteTime": {
     "end_time": "2018-10-21T08:56:05.458698Z",
     "start_time": "2018-10-21T08:56:05.442766Z"
    },
    "scrolled": true
   },
   "outputs": [
    {
     "name": "stdout",
     "output_type": "stream",
     "text": [
      "The ir_version in model: 3\n",
      "\n",
      "The producer_name in model: onnx-example\n",
      "\n",
      "The model is checked!\n"
     ]
    }
   ],
   "source": [
    "# Create one input (ValueInfoProto)\n",
    "X = helper.make_tensor_value_info('X', TensorProto.FLOAT, [1, 2])\n",
    "\n",
    "# Create one output (ValueInfoProto)\n",
    "Y = helper.make_tensor_value_info('Y', TensorProto.FLOAT, [1, 4])\n",
    "\n",
    "# Create a node (NodeProto)\n",
    "node_def = helper.make_node(\n",
    "    'Pad', # node name\n",
    "    ['X'], # inputs\n",
    "    ['Y'], # outputs\n",
    "    mode='constant', # Attributes\n",
    "    value=1.5,\n",
    "    pads=[0, 1, 0, 1],\n",
    ")\n",
    "\n",
    "# Create the graph (GraphProto)\n",
    "graph_def = helper.make_graph(\n",
    "    [node_def],\n",
    "    \"test-model\",\n",
    "    [X],\n",
    "    [Y],\n",
    ")\n",
    "\n",
    "# Create the model (ModelProto)\n",
    "model_def = helper.make_model(graph_def,\n",
    "                              producer_name='onnx-example')\n",
    "\n",
    "print('The ir_version in model: {}\\n'.format(model_def.ir_version))\n",
    "print('The producer_name in model: {}\\n'.format(model_def.producer_name))\n",
    "#print('The graph in model:\\n{}'.format(model_def.graph))\n",
    "onnx.checker.check_model(model_def)\n",
    "print('The model is checked!')"
   ]
  },
  {
   "cell_type": "code",
   "execution_count": 3,
   "metadata": {
    "ExecuteTime": {
     "end_time": "2018-10-21T09:23:21.944982Z",
     "start_time": "2018-10-21T09:23:21.940475Z"
    }
   },
   "outputs": [
    {
     "ename": "NameError",
     "evalue": "name 'nodes' is not defined",
     "output_type": "error",
     "traceback": [
      "\u001b[0;31m---------------------------------------------------------------------------\u001b[0m",
      "\u001b[0;31mNameError\u001b[0m                                 Traceback (most recent call last)",
      "\u001b[0;32m<ipython-input-3-325ed6c1c37f>\u001b[0m in \u001b[0;36m<module>\u001b[0;34m\u001b[0m\n\u001b[1;32m      1\u001b[0m \u001b[0;31m#helper.make_graph?\u001b[0m\u001b[0;34m\u001b[0m\u001b[0;34m\u001b[0m\u001b[0;34m\u001b[0m\u001b[0m\n\u001b[0;32m----> 2\u001b[0;31m \u001b[0mhelper\u001b[0m\u001b[0;34m.\u001b[0m\u001b[0mmake_graph\u001b[0m\u001b[0;34m(\u001b[0m\u001b[0mnodes\u001b[0m\u001b[0;34m,\u001b[0m \u001b[0mname\u001b[0m\u001b[0;34m,\u001b[0m \u001b[0minputs\u001b[0m\u001b[0;34m,\u001b[0m \u001b[0moutputs\u001b[0m\u001b[0;34m,\u001b[0m \u001b[0minitializer\u001b[0m\u001b[0;34m=\u001b[0m\u001b[0;32mNone\u001b[0m\u001b[0;34m,\u001b[0m \u001b[0mdoc_string\u001b[0m\u001b[0;34m=\u001b[0m\u001b[0;32mNone\u001b[0m\u001b[0;34m,\u001b[0m \u001b[0mvalue_info\u001b[0m\u001b[0;34m=\u001b[0m\u001b[0;34m[\u001b[0m\u001b[0;34m]\u001b[0m\u001b[0;34m)\u001b[0m\u001b[0;34m\u001b[0m\u001b[0;34m\u001b[0m\u001b[0m\n\u001b[0m",
      "\u001b[0;31mNameError\u001b[0m: name 'nodes' is not defined"
     ]
    }
   ],
   "source": [
    "#helper.make_graph?\n",
    "helper.make_graph(nodes, name, inputs, outputs, initializer=None, doc_string=None, value_info=[])"
   ]
  },
  {
   "cell_type": "code",
   "execution_count": 7,
   "metadata": {
    "ExecuteTime": {
     "end_time": "2018-10-21T09:13:24.015388Z",
     "start_time": "2018-10-21T09:13:24.003950Z"
    }
   },
   "outputs": [],
   "source": [
    "#helper.make_node?\n",
    "#helper.make_node(op_type, inputs, outputs, name=None, doc_string=None, **kwargs)"
   ]
  },
  {
   "cell_type": "code",
   "execution_count": 45,
   "metadata": {
    "ExecuteTime": {
     "end_time": "2018-10-21T11:38:40.468348Z",
     "start_time": "2018-10-21T11:38:40.459711Z"
    }
   },
   "outputs": [
    {
     "data": {
      "text/plain": [
       "dims: 1\n",
       "dims: 2\n",
       "dims: 3\n",
       "dims: 3\n",
       "data_type: DOUBLE\n",
       "raw_data: \"\\000\\000\\000\\000\\000\\000\\360?\\000\\000\\000\\000\\000\\000\\360?\\000\\000\\000\\000\\000\\000\\360?\\000\\000\\000\\000\\000\\000\\360?\\000\\000\\000\\000\\000\\000\\360?\\000\\000\\000\\000\\000\\000\\360?\\000\\000\\000\\000\\000\\000\\360?\\000\\000\\000\\000\\000\\000\\360?\\000\\000\\000\\000\\000\\000\\360?\\000\\000\\000\\000\\000\\000\\360?\\000\\000\\000\\000\\000\\000\\360?\\000\\000\\000\\000\\000\\000\\360?\\000\\000\\000\\000\\000\\000\\360?\\000\\000\\000\\000\\000\\000\\360?\\000\\000\\000\\000\\000\\000\\360?\\000\\000\\000\\000\\000\\000\\360?\\000\\000\\000\\000\\000\\000\\360?\\000\\000\\000\\000\\000\\000\\360?\""
      ]
     },
     "execution_count": 45,
     "metadata": {},
     "output_type": "execute_result"
    }
   ],
   "source": [
    "np.ones((1,2,3,3), dtype=float)\n",
    "numpy_helper.from_array(np.ones((1,2,3,3), dtype=float))"
   ]
  },
  {
   "cell_type": "code",
   "execution_count": 2,
   "metadata": {
    "ExecuteTime": {
     "end_time": "2018-10-24T02:09:21.196371Z",
     "start_time": "2018-10-24T02:09:20.614032Z"
    }
   },
   "outputs": [],
   "source": [
    "from __future__ import absolute_import\n",
    "from __future__ import division\n",
    "from __future__ import print_function\n",
    "from __future__ import unicode_literals\n",
    "\n",
    "import onnx\n",
    "from onnx import helper\n",
    "from onnx import AttributeProto, TensorProto, GraphProto\n",
    "from onnx import numpy_helper\n",
    "import numpy as np"
   ]
  },
  {
   "cell_type": "code",
   "execution_count": 4,
   "metadata": {
    "ExecuteTime": {
     "end_time": "2018-11-01T12:34:05.929407Z",
     "start_time": "2018-11-01T12:34:05.888268Z"
    }
   },
   "outputs": [],
   "source": [
    "X = helper.make_tensor_value_info('X', TensorProto.FLOAT, [1, 2])\n",
    "Y = helper.make_tensor_value_info('Y', TensorProto.FLOAT, [1, 2])\n",
    "node=[]\n",
    "node.append(onnx.helper.make_node(\n",
    "    op_type='Constant',\n",
    "    inputs=[],\n",
    "    outputs=['mul0w'],\n",
    "    value=numpy_helper.from_array(np.ones((2,2), dtype=np.float32))\n",
    "))\n",
    "node.append(onnx.helper.make_node(\n",
    "    'MatMul',\n",
    "    inputs=['X', 'mul0w'],\n",
    "    outputs=['mul0'],\n",
    "))\n",
    "'''node.append(onnx.helper.make_node(\n",
    "    op_type='Constant',\n",
    "    inputs=[],\n",
    "    outputs=['addb'],\n",
    "    value=numpy_helper.from_array(np.ones((2), dtype=np.float32))\n",
    "))\n",
    "node.append(onnx.helper.make_node(\n",
    "    'Add',\n",
    "    inputs=['matmul', 'addb'],\n",
    "    outputs=['add'],\n",
    "))'''\n",
    "node.append(onnx.helper.make_node(\n",
    "    op_type='Constant',\n",
    "    inputs=[],\n",
    "    outputs=['mul1w'],\n",
    "    value=numpy_helper.from_array(np.ones((2,2), dtype=np.float32))\n",
    "))\n",
    "node.append(onnx.helper.make_node(\n",
    "    'MatMul',\n",
    "    inputs=['mul0', 'mul1w'],\n",
    "    outputs=['mul1'],\n",
    "))\n",
    "node.append(onnx.helper.make_node(\n",
    "    op_type='Constant',\n",
    "    inputs=[],\n",
    "    outputs=['mul2w'],\n",
    "    value=numpy_helper.from_array(np.ones((2,2), dtype=np.float32))\n",
    "))\n",
    "node.append(onnx.helper.make_node(\n",
    "    'MatMul',\n",
    "    inputs=['mul0', 'mul2w'],\n",
    "    outputs=['mul2'],\n",
    "))\n",
    "node.append(onnx.helper.make_node(\n",
    "    'Add',\n",
    "    inputs=['mul2', 'mul1'],\n",
    "    outputs=['add'],\n",
    "))\n",
    "node.append(onnx.helper.make_node(\n",
    "    'LeakyRelu',\n",
    "    inputs=['add'],\n",
    "    outputs=['LeakyRelu'],\n",
    "    alpha=0.0\n",
    "))\n",
    "\n",
    "node.append(onnx.helper.make_node(\n",
    "    'Softmax',\n",
    "    inputs=['LeakyRelu'],\n",
    "    outputs=['Y'],\n",
    "))\n",
    "model_def = helper.make_model(helper.make_graph(node,\"test-model\",[X],[Y],),producer_name='onnx-example')\n",
    "onnx.checker.check_model(model_def)"
   ]
  },
  {
   "cell_type": "code",
   "execution_count": 3,
   "metadata": {
    "ExecuteTime": {
     "end_time": "2018-11-01T12:32:13.316276Z",
     "start_time": "2018-11-01T12:32:13.236652Z"
    }
   },
   "outputs": [
    {
     "ename": "ModuleNotFoundError",
     "evalue": "No module named 'caffe2'",
     "output_type": "error",
     "traceback": [
      "\u001b[0;31m---------------------------------------------------------------------------\u001b[0m",
      "\u001b[0;31mModuleNotFoundError\u001b[0m                       Traceback (most recent call last)",
      "\u001b[0;32m<ipython-input-3-1a3d037bcf57>\u001b[0m in \u001b[0;36m<module>\u001b[0;34m()\u001b[0m\n\u001b[0;32m----> 1\u001b[0;31m \u001b[0;32mimport\u001b[0m \u001b[0mcaffe2\u001b[0m\u001b[0;34m.\u001b[0m\u001b[0mpython\u001b[0m\u001b[0;34m.\u001b[0m\u001b[0monnx\u001b[0m\u001b[0;34m.\u001b[0m\u001b[0mbackend\u001b[0m \u001b[0;32mas\u001b[0m \u001b[0mbackend\u001b[0m\u001b[0;34m\u001b[0m\u001b[0m\n\u001b[0m\u001b[1;32m      2\u001b[0m \u001b[0;32mimport\u001b[0m \u001b[0mnumpy\u001b[0m \u001b[0;32mas\u001b[0m \u001b[0mnp\u001b[0m\u001b[0;34m\u001b[0m\u001b[0m\n\u001b[1;32m      3\u001b[0m \u001b[0;34m\u001b[0m\u001b[0m\n\u001b[1;32m      4\u001b[0m \u001b[0mrep\u001b[0m \u001b[0;34m=\u001b[0m \u001b[0mbackend\u001b[0m\u001b[0;34m.\u001b[0m\u001b[0mprepare\u001b[0m\u001b[0;34m(\u001b[0m\u001b[0mmodel_def\u001b[0m\u001b[0;34m,\u001b[0m \u001b[0mdevice\u001b[0m\u001b[0;34m=\u001b[0m\u001b[0;34m\"CPU\"\u001b[0m\u001b[0;34m)\u001b[0m \u001b[0;31m# or \"CPU\"\u001b[0m\u001b[0;34m\u001b[0m\u001b[0m\n\u001b[1;32m      5\u001b[0m \u001b[0;31m# For the Caffe2 backend:\u001b[0m\u001b[0;34m\u001b[0m\u001b[0;34m\u001b[0m\u001b[0m\n",
      "\u001b[0;31mModuleNotFoundError\u001b[0m: No module named 'caffe2'"
     ]
    }
   ],
   "source": [
    "import caffe2.python.onnx.backend as backend\n",
    "import numpy as np\n",
    "\n",
    "rep = backend.prepare(model_def, device=\"CPU\") # or \"CPU\"\n",
    "# For the Caffe2 backend:\n",
    "#     rep.predict_net is the Caffe2 protobuf for the network\n",
    "#     rep.workspace is the Caffe2 workspace for the network\n",
    "#       (see the class caffe2.python.onnx.backend.Workspace)\n",
    "outputs = rep.run(np.ones((2,2)).astype(np.float32))\n",
    "# To run networks with more than one input, pass a tuple\n",
    "# rather than a single numpy ndarray.\n",
    "print(outputs[0])"
   ]
  },
  {
   "cell_type": "code",
   "execution_count": 3,
   "metadata": {
    "ExecuteTime": {
     "end_time": "2018-10-24T02:09:22.279737Z",
     "start_time": "2018-10-24T02:09:22.252395Z"
    }
   },
   "outputs": [],
   "source": [
    "X = helper.make_tensor_value_info('X', TensorProto.FLOAT, [3, 1, 4, 4])\n",
    "Y = helper.make_tensor_value_info('Y', TensorProto.FLOAT, [3, 2, 2, 2])\n",
    "#const = helper.make_tensor_value_info('constant255', TensorProto.FLOAT, [1])\n",
    "\n",
    "const255 = onnx.helper.make_node(\n",
    "    op_type='Constant',\n",
    "    inputs=[],\n",
    "    outputs=['normlayer'],\n",
    "    name='',\n",
    "    value=onnx.helper.make_tensor(\n",
    "        name='const_tensor',\n",
    "        data_type=onnx.TensorProto.FLOAT,\n",
    "        dims=[1],\n",
    "        vals=[0.1],\n",
    "    ),\n",
    ")\n",
    "\n",
    "normlayer = onnx.helper.make_node(\n",
    "    op_type='Div',\n",
    "    inputs=['X', 'normlayer'],\n",
    "    outputs=['normx'],\n",
    "    name='',\n",
    ")\n",
    "\n",
    "conv0W = onnx.helper.make_node(\n",
    "    op_type='Constant',\n",
    "    inputs=[],\n",
    "    outputs=['W'],\n",
    "    name='',\n",
    "    value=numpy_helper.from_array(np.ones((2,1,3,3), dtype=np.float32))\n",
    ")\n",
    "\n",
    "conv0 = onnx.helper.make_node(\n",
    "    'Conv',\n",
    "    inputs=['normx', 'W'],\n",
    "    outputs=['conv0'],\n",
    "    kernel_shape=[3, 3],\n",
    "    # Default values for other attributes: strides=[1, 1], dilations=[1, 1], groups=1\n",
    "    pads=[1, 1, 1, 1],\n",
    ")\n",
    "\n",
    "pooling0 = onnx.helper.make_node(\n",
    "    'MaxPool',\n",
    "    inputs=['conv0'],\n",
    "    outputs=['pooling0'],\n",
    "    kernel_shape=[2, 2],\n",
    "    strides=[2, 2],\n",
    ")\n",
    "leakyRelu = onnx.helper.make_node(\n",
    "    'LeakyRelu',\n",
    "    inputs=['pooling0'],\n",
    "    outputs=['leakyRelu'],\n",
    "    alpha=0.0\n",
    ")\n",
    "\n",
    "Bn0s = onnx.helper.make_node(\n",
    "    op_type='Constant',\n",
    "    inputs=[],\n",
    "    outputs=['Bn0s'],\n",
    "    name='',\n",
    "    value=numpy_helper.from_array(np.ones((2), dtype=np.float32))\n",
    ")\n",
    "Bn0b = onnx.helper.make_node(\n",
    "    op_type='Constant',\n",
    "    inputs=[],\n",
    "    outputs=['Bn0b'],\n",
    "    name='',\n",
    "    value=numpy_helper.from_array(np.ones((2), dtype=np.float32))\n",
    ")\n",
    "Bn0mean = onnx.helper.make_node(\n",
    "    op_type='Constant',\n",
    "    inputs=[],\n",
    "    outputs=['Bn0mean'],\n",
    "    name='',\n",
    "    value=numpy_helper.from_array(np.ones((2), dtype=np.float32))\n",
    ")\n",
    "Bn0var = onnx.helper.make_node(\n",
    "    op_type='Constant',\n",
    "    inputs=[],\n",
    "    outputs=['Bn0var'],\n",
    "    name='',\n",
    "    value=numpy_helper.from_array(np.ones((2), dtype=np.float32))\n",
    ")\n",
    "bn0 = onnx.helper.make_node(\n",
    "    'BatchNormalization',\n",
    "    inputs=['leakyRelu', 'Bn0s', 'Bn0b', 'Bn0mean', 'Bn0var'],\n",
    "    outputs=['Y'],\n",
    ")\n",
    "\n",
    "# Create the graph (GraphProto)\n",
    "graph_def = helper.make_graph(\n",
    "    [const255,normlayer,conv0W,conv0,pooling0,leakyRelu,Bn0s,Bn0b,Bn0mean,Bn0var,bn0],\n",
    "    \"test-model\",\n",
    "    [X],\n",
    "    [Y],\n",
    ")\n",
    "\n",
    "# Create the model (ModelProto)\n",
    "model_def = helper.make_model(graph_def,\n",
    "                              producer_name='onnx-example')\n",
    "onnx.checker.check_model(model_def)"
   ]
  },
  {
   "cell_type": "code",
   "execution_count": 4,
   "metadata": {
    "ExecuteTime": {
     "end_time": "2018-10-24T02:13:52.789924Z",
     "start_time": "2018-10-24T02:13:52.779356Z"
    }
   },
   "outputs": [
    {
     "data": {
      "text/plain": [
       "output: \"W\"\n",
       "op_type: \"Constant\"\n",
       "attribute {\n",
       "  name: \"value\"\n",
       "  t {\n",
       "    dims: 2\n",
       "    dims: 1\n",
       "    dims: 3\n",
       "    dims: 3\n",
       "    data_type: FLOAT\n",
       "    raw_data: \"\\000\\000\\200?\\000\\000\\200?\\000\\000\\200?\\000\\000\\200?\\000\\000\\200?\\000\\000\\200?\\000\\000\\200?\\000\\000\\200?\\000\\000\\200?\\000\\000\\200?\\000\\000\\200?\\000\\000\\200?\\000\\000\\200?\\000\\000\\200?\\000\\000\\200?\\000\\000\\200?\\000\\000\\200?\\000\\000\\200?\"\n",
       "  }\n",
       "  type: TENSOR\n",
       "}"
      ]
     },
     "execution_count": 4,
     "metadata": {},
     "output_type": "execute_result"
    }
   ],
   "source": [
    "model_def.graph.node[2]"
   ]
  },
  {
   "cell_type": "code",
   "execution_count": 5,
   "metadata": {
    "ExecuteTime": {
     "end_time": "2018-10-24T02:15:41.424754Z",
     "start_time": "2018-10-24T02:15:41.420165Z"
    }
   },
   "outputs": [
    {
     "data": {
      "text/plain": [
       "name: \"value\"\n",
       "t {\n",
       "  dims: 2\n",
       "  dims: 1\n",
       "  dims: 3\n",
       "  dims: 3\n",
       "  data_type: FLOAT\n",
       "  raw_data: \"\\000\\000\\200?\\000\\000\\200?\\000\\000\\200?\\000\\000\\200?\\000\\000\\200?\\000\\000\\200?\\000\\000\\200?\\000\\000\\200?\\000\\000\\200?\\000\\000\\200?\\000\\000\\200?\\000\\000\\200?\\000\\000\\200?\\000\\000\\200?\\000\\000\\200?\\000\\000\\200?\\000\\000\\200?\\000\\000\\200?\"\n",
       "}\n",
       "type: TENSOR"
      ]
     },
     "execution_count": 5,
     "metadata": {},
     "output_type": "execute_result"
    }
   ],
   "source": [
    "model_def.graph.node[2].attribute[0]"
   ]
  },
  {
   "cell_type": "code",
   "execution_count": 6,
   "metadata": {
    "ExecuteTime": {
     "end_time": "2018-10-24T02:15:34.234609Z",
     "start_time": "2018-10-24T02:15:34.230283Z"
    }
   },
   "outputs": [
    {
     "data": {
      "text/plain": [
       "dims: 2\n",
       "dims: 1\n",
       "dims: 3\n",
       "dims: 3\n",
       "data_type: FLOAT\n",
       "raw_data: \"\\000\\000\\200?\\000\\000\\200?\\000\\000\\200?\\000\\000\\200?\\000\\000\\200?\\000\\000\\200?\\000\\000\\200?\\000\\000\\200?\\000\\000\\200?\\000\\000\\200?\\000\\000\\200?\\000\\000\\200?\\000\\000\\200?\\000\\000\\200?\\000\\000\\200?\\000\\000\\200?\\000\\000\\200?\\000\\000\\200?\""
      ]
     },
     "execution_count": 6,
     "metadata": {},
     "output_type": "execute_result"
    }
   ],
   "source": [
    "model_def.graph.node[2].attribute[0].t"
   ]
  },
  {
   "cell_type": "code",
   "execution_count": 7,
   "metadata": {
    "ExecuteTime": {
     "end_time": "2018-10-24T02:15:27.525097Z",
     "start_time": "2018-10-24T02:15:27.520577Z"
    }
   },
   "outputs": [
    {
     "data": {
      "text/plain": [
       "array([[[[1., 1., 1.],\n",
       "         [1., 1., 1.],\n",
       "         [1., 1., 1.]]],\n",
       "\n",
       "\n",
       "       [[[1., 1., 1.],\n",
       "         [1., 1., 1.],\n",
       "         [1., 1., 1.]]]], dtype=float32)"
      ]
     },
     "execution_count": 7,
     "metadata": {},
     "output_type": "execute_result"
    }
   ],
   "source": [
    "numpy_helper.to_array(model_def.graph.node[2].attribute[0].t)"
   ]
  },
  {
   "cell_type": "code",
   "execution_count": 9,
   "metadata": {
    "ExecuteTime": {
     "end_time": "2018-10-21T12:18:37.824088Z",
     "start_time": "2018-10-21T12:18:37.799335Z"
    }
   },
   "outputs": [
    {
     "name": "stderr",
     "output_type": "stream",
     "text": [
      "WARNING:root:This caffe2 python run does not have GPU support. Will run in CPU only mode.\n"
     ]
    },
    {
     "name": "stdout",
     "output_type": "stream",
     "text": [
      "[[[[89.99956 89.99956]\n",
      "   [89.99956 89.99956]]\n",
      "\n",
      "  [[89.99956 89.99956]\n",
      "   [89.99956 89.99956]]]\n",
      "\n",
      "\n",
      " [[[89.99956 89.99956]\n",
      "   [89.99956 89.99956]]\n",
      "\n",
      "  [[89.99956 89.99956]\n",
      "   [89.99956 89.99956]]]\n",
      "\n",
      "\n",
      " [[[89.99956 89.99956]\n",
      "   [89.99956 89.99956]]\n",
      "\n",
      "  [[89.99956 89.99956]\n",
      "   [89.99956 89.99956]]]\n",
      "\n",
      "\n",
      " [[[89.99956 89.99956]\n",
      "   [89.99956 89.99956]]\n",
      "\n",
      "  [[89.99956 89.99956]\n",
      "   [89.99956 89.99956]]]]\n"
     ]
    }
   ],
   "source": [
    "import caffe2.python.onnx.backend as backend\n",
    "import numpy as np\n",
    "\n",
    "rep = backend.prepare(model_def, device=\"CPU\") # or \"CPU\"\n",
    "# For the Caffe2 backend:\n",
    "#     rep.predict_net is the Caffe2 protobuf for the network\n",
    "#     rep.workspace is the Caffe2 workspace for the network\n",
    "#       (see the class caffe2.python.onnx.backend.Workspace)\n",
    "outputs = rep.run(np.ones((4,1,4,4)).astype(np.float32))\n",
    "# To run networks with more than one input, pass a tuple\n",
    "# rather than a single numpy ndarray.\n",
    "print(outputs[0])"
   ]
  },
  {
   "cell_type": "code",
   "execution_count": null,
   "metadata": {},
   "outputs": [],
   "source": []
  }
 ],
 "metadata": {
  "kernelspec": {
   "display_name": "Python [conda env:anaconda3]",
   "language": "python",
   "name": "conda-env-anaconda3-py"
  },
  "language_info": {
   "codemirror_mode": {
    "name": "ipython",
    "version": 3
   },
   "file_extension": ".py",
   "mimetype": "text/x-python",
   "name": "python",
   "nbconvert_exporter": "python",
   "pygments_lexer": "ipython3",
   "version": "3.6.5"
  }
 },
 "nbformat": 4,
 "nbformat_minor": 2
}
