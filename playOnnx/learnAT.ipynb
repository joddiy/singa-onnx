{
 "cells": [
  {
   "cell_type": "code",
   "execution_count": 2,
   "metadata": {
    "ExecuteTime": {
     "end_time": "2018-10-17T02:46:50.513886Z",
     "start_time": "2018-10-17T02:46:50.501963Z"
    }
   },
   "outputs": [
    {
     "name": "stdout",
     "output_type": "stream",
     "text": [
      "['cheese', 'sauce']\n"
     ]
    }
   ],
   "source": [
    "class Pizza(object):\n",
    "    def __init__(self):\n",
    "        self.toppings = []\n",
    "\n",
    "    def __call__(self, topping):\n",
    "        # When using '@instance_of_pizza' before a function definition\n",
    "        # the function gets passed onto 'topping'.\n",
    "        self.toppings.append(topping())\n",
    "\n",
    "    def __repr__(self):\n",
    "        return str(self.toppings)\n",
    "\n",
    "pizza = Pizza()\n",
    "\n",
    "@pizza\n",
    "def cheese():\n",
    "    return 'cheese'\n",
    "@pizza\n",
    "def sauce():\n",
    "    return 'sauce'\n",
    "\n",
    "print (pizza)\n",
    "# ['cheese', 'sauce']"
   ]
  },
  {
   "cell_type": "code",
   "execution_count": 3,
   "metadata": {
    "ExecuteTime": {
     "end_time": "2018-10-17T02:48:05.261887Z",
     "start_time": "2018-10-17T02:48:05.142176Z"
    }
   },
   "outputs": [],
   "source": [
    "from flask import Flask\n",
    "app = Flask(__name__)\n",
    "\n",
    "@app.route(\"/\")\n",
    "def hello():\n",
    "    return \"Hello World!\""
   ]
  },
  {
   "cell_type": "code",
   "execution_count": 10,
   "metadata": {
    "ExecuteTime": {
     "end_time": "2018-10-17T02:56:02.099748Z",
     "start_time": "2018-10-17T02:56:02.091554Z"
    }
   },
   "outputs": [
    {
     "name": "stdout",
     "output_type": "stream",
     "text": [
      "decorator\n",
      "some_func\n"
     ]
    }
   ],
   "source": [
    "def decorator(func):\n",
    "    print('decorator')\n",
    "    func()\n",
    "\n",
    "@decorator\n",
    "def some_func():\n",
    "    print('some_func')"
   ]
  },
  {
   "cell_type": "code",
   "execution_count": 11,
   "metadata": {
    "ExecuteTime": {
     "end_time": "2018-10-17T02:56:13.225223Z",
     "start_time": "2018-10-17T02:56:13.216942Z"
    }
   },
   "outputs": [
    {
     "name": "stdout",
     "output_type": "stream",
     "text": [
      "decorator\n",
      "some_func\n"
     ]
    }
   ],
   "source": [
    "def decorator(func):\n",
    "    print('decorator')\n",
    "    func()\n",
    "\n",
    "def some_func():\n",
    "    print('some_func')\n",
    "\n",
    "decorator(some_func)"
   ]
  },
  {
   "cell_type": "code",
   "execution_count": 14,
   "metadata": {
    "ExecuteTime": {
     "end_time": "2018-10-17T03:05:03.115393Z",
     "start_time": "2018-10-17T03:05:03.103436Z"
    }
   },
   "outputs": [
    {
     "name": "stdout",
     "output_type": "stream",
     "text": [
      "f0\n",
      "some_func\n",
      "end f0 and return func\n",
      "f1\n",
      "some_func\n",
      "end f1\n"
     ]
    }
   ],
   "source": [
    "def f1(func):\n",
    "    print('f1')\n",
    "    func()\n",
    "    print('end f1')\n",
    "\n",
    "def f0(func):\n",
    "    print('f0')\n",
    "    func()\n",
    "    print('end f0 and return func')\n",
    "    return func\n",
    "\n",
    "@f1 \n",
    "@f0\n",
    "def some_func():\n",
    "    print('some_func')"
   ]
  },
  {
   "cell_type": "code",
   "execution_count": 19,
   "metadata": {
    "ExecuteTime": {
     "end_time": "2018-10-17T08:00:38.502876Z",
     "start_time": "2018-10-17T08:00:38.492498Z"
    }
   },
   "outputs": [
    {
     "name": "stdout",
     "output_type": "stream",
     "text": [
      "3\n",
      "3\n",
      "3\n"
     ]
    }
   ],
   "source": [
    "def sum(a, b):\n",
    "    print(a+b)\n",
    "    return a + b\n",
    "\n",
    "values = (1, 2)\n",
    "\n",
    "s = sum(*values)\n",
    "s = sum(1, 2)\n",
    "values = { 'a': 1, 'b': 2 }\n",
    "s = sum(**values)"
   ]
  },
  {
   "cell_type": "code",
   "execution_count": 20,
   "metadata": {
    "ExecuteTime": {
     "end_time": "2018-10-17T08:00:47.323020Z",
     "start_time": "2018-10-17T08:00:47.314394Z"
    }
   },
   "outputs": [
    {
     "name": "stdout",
     "output_type": "stream",
     "text": [
      "28\n"
     ]
    }
   ],
   "source": [
    "def sum(a, b, c, d):\n",
    "    print(a + b + c + d)\n",
    "    return a + b + c + d\n",
    "\n",
    "values1 = (1, 2)\n",
    "values2 = { 'c': 10, 'd': 15 }\n",
    "s = sum(*values1, **values2)"
   ]
  },
  {
   "cell_type": "code",
   "execution_count": 21,
   "metadata": {
    "ExecuteTime": {
     "end_time": "2018-10-17T08:00:49.957016Z",
     "start_time": "2018-10-17T08:00:49.950836Z"
    }
   },
   "outputs": [
    {
     "name": "stdout",
     "output_type": "stream",
     "text": [
      "28\n"
     ]
    }
   ],
   "source": [
    "s = sum(1, 2, c=10, d=15)"
   ]
  },
  {
   "cell_type": "code",
   "execution_count": 23,
   "metadata": {
    "ExecuteTime": {
     "end_time": "2018-10-17T08:01:30.475536Z",
     "start_time": "2018-10-17T08:01:30.460047Z"
    }
   },
   "outputs": [
    {
     "name": "stdout",
     "output_type": "stream",
     "text": [
      "(1, 2, 3, 4, 5)\n",
      "1 2 3 4 5\n"
     ]
    }
   ],
   "source": [
    "def sum(*values):\n",
    "    s = 0\n",
    "    print(values)\n",
    "    print(*values)\n",
    "    for v in values:\n",
    "        s = s + v\n",
    "    return s\n",
    "\n",
    "s = sum(1, 2, 3, 4, 5)"
   ]
  },
  {
   "cell_type": "code",
   "execution_count": 25,
   "metadata": {
    "ExecuteTime": {
     "end_time": "2018-10-17T08:01:58.884936Z",
     "start_time": "2018-10-17T08:01:58.876543Z"
    }
   },
   "outputs": [
    {
     "name": "stdout",
     "output_type": "stream",
     "text": [
      "1\n"
     ]
    }
   ],
   "source": [
    "def get_a(**values):\n",
    "    print(values['a'])\n",
    "    return values['a']\n",
    "\n",
    "s = get_a(a=1, b=2)      # returns 1"
   ]
  },
  {
   "cell_type": "code",
   "execution_count": 27,
   "metadata": {
    "ExecuteTime": {
     "end_time": "2018-10-17T08:02:35.209008Z",
     "start_time": "2018-10-17T08:02:35.197845Z"
    }
   },
   "outputs": [
    {
     "name": "stdout",
     "output_type": "stream",
     "text": [
      "15\n",
      "-15\n",
      "15\n"
     ]
    }
   ],
   "source": [
    "def sum(*values, **options):\n",
    "    s = 0\n",
    "    for i in values:\n",
    "        s = s + i\n",
    "    if \"neg\" in options:\n",
    "        if options[\"neg\"]:\n",
    "            s = -s\n",
    "    return s\n",
    "\n",
    "print(sum(1, 2, 3, 4, 5))            # returns 15\n",
    "print(sum(1, 2, 3, 4, 5, neg=True))  # returns -15\n",
    "print(sum(1, 2, 3, 4, 5, neg=False)) # returns 15"
   ]
  },
  {
   "cell_type": "code",
   "execution_count": null,
   "metadata": {},
   "outputs": [],
   "source": []
  }
 ],
 "metadata": {
  "kernelspec": {
   "display_name": "Python 3",
   "language": "python",
   "name": "python3"
  },
  "language_info": {
   "codemirror_mode": {
    "name": "ipython",
    "version": 3
   },
   "file_extension": ".py",
   "mimetype": "text/x-python",
   "name": "python",
   "nbconvert_exporter": "python",
   "pygments_lexer": "ipython3",
   "version": "3.6.5"
  }
 },
 "nbformat": 4,
 "nbformat_minor": 2
}
