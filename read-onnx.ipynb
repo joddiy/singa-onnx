{
 "cells": [
  {
   "cell_type": "code",
   "execution_count": 4,
   "metadata": {},
   "outputs": [
    {
     "name": "stdout",
     "output_type": "stream",
     "text": [
      "[[0.49146947 0.50853056]\n",
      " [0.49146947 0.50853056]\n",
      " [0.49146947 0.50853056]\n",
      " [0.49146947 0.50853056]]\n"
     ]
    }
   ],
   "source": [
    "import pickle\n",
    "import numpy as np\n",
    "import caffe2.python.onnx.backend as backend\n",
    "with open('onnxmodel.pkl', 'rb') as input:\n",
    "    model = pickle.load(input)\n",
    "    rep = backend.prepare(model, device=\"CPU\")  # or \"CPU\"\n",
    "    outputs = rep.run(np.ones((4, 2)).astype(np.float32))\n",
    "    print(outputs[0])"
   ]
  }
 ],
 "metadata": {
  "kernelspec": {
   "display_name": "Python [conda env:py3]",
   "language": "python",
   "name": "conda-env-py3-py"
  },
  "language_info": {
   "codemirror_mode": {
    "name": "ipython",
    "version": 3
   },
   "file_extension": ".py",
   "mimetype": "text/x-python",
   "name": "python",
   "nbconvert_exporter": "python",
   "pygments_lexer": "ipython3",
   "version": "3.6.7"
  }
 },
 "nbformat": 4,
 "nbformat_minor": 2
}
