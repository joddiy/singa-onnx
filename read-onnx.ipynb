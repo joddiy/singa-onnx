{
 "cells": [
  {
   "cell_type": "code",
   "execution_count": 13,
   "metadata": {
    "ExecuteTime": {
     "end_time": "2018-11-01T13:48:39.513197Z",
     "start_time": "2018-11-01T13:48:39.487743Z"
    }
   },
   "outputs": [
    {
     "name": "stdout",
     "output_type": "stream",
     "text": [
      "[[0.50335246 0.4966476 ]\n",
      " [0.50335246 0.4966476 ]\n",
      " [0.50335246 0.4966476 ]\n",
      " [0.50335246 0.4966476 ]]\n"
     ]
    }
   ],
   "source": [
    "import pickle\n",
    "import numpy as np\n",
    "import numpy\n",
    "import onnx\n",
    "from onnx import numpy_helper\n",
    "import caffe2.python.onnx.backend as backend\n",
    "with open('onnxmodel.pkl', 'rb') as input:\n",
    "    model = pickle.load(input)\n",
    "    rep = backend.prepare(model, device=\"CPU\")  # or \"CPU\"\n",
    "    outputs = rep.run(np.ones((4, 2)).astype(np.float32))\n",
    "    print(outputs[0])"
   ]
  },
  {
   "cell_type": "code",
   "execution_count": 2,
   "metadata": {
    "ExecuteTime": {
     "end_time": "2018-11-01T13:37:30.269765Z",
     "start_time": "2018-11-01T13:37:30.261833Z"
    }
   },
   "outputs": [],
   "source": [
    "with open('onnxmodel.pkl', 'rb') as input:\n",
    "    model = pickle.load(input)"
   ]
  },
  {
   "cell_type": "code",
   "execution_count": null,
   "metadata": {},
   "outputs": [],
   "source": [
    "w0 = Tensor(shape=(2, 2), requires_grad=True, stores_grad=True)\n",
    "w0.gaussian(0.0, 0.1)\n",
    "b0 = Tensor(shape=(1, 2), requires_grad=True, stores_grad=True)\n",
    "b0.set_value(0.0)\n",
    "\n",
    "w1 = Tensor(shape=(2, 2), requires_grad=True, stores_grad=True)\n",
    "w1.gaussian(0.0, 0.1)\n",
    "b1 = Tensor(shape=(1, 2), requires_grad=True, stores_grad=True)\n",
    "b1.set_value(0.0)\n",
    "\n",
    "w2 = Tensor(shape=(2, 2), requires_grad=True, stores_grad=True)\n",
    "w2.gaussian(0.0, 0.1)\n",
    "b2 = Tensor(shape=(1, 2), requires_grad=True, stores_grad=True)\n",
    "b2.set_value(0.0)"
   ]
  },
  {
   "cell_type": "code",
   "execution_count": 35,
   "metadata": {
    "ExecuteTime": {
     "end_time": "2018-11-01T14:02:29.195557Z",
     "start_time": "2018-11-01T14:02:29.178345Z"
    }
   },
   "outputs": [
    {
     "name": "stdout",
     "output_type": "stream",
     "text": [
      "{'<singa.autograd.Dummy object at 0x7f21b8a08400>1w': array([[-0.02932191,  0.0253161 ],\n",
      "       [-0.00570855,  0.00845902]], dtype=float32), '<singa.autograd.Matmul object at 0x7f2196660358>1b': array([[0., 0.]], dtype=float32), '<singa.autograd.AddBias object at 0x7f2196660438>1w': array([[-0.14382157,  0.09923278],\n",
      "       [ 0.01068471, -0.09106549]], dtype=float32), '<singa.autograd.Matmul object at 0x7f2196660550>1b': array([[0., 0.]], dtype=float32), '<singa.autograd.AddBias object at 0x7f2196660438>2w': array([[-0.08444529, -0.0600247 ],\n",
      "       [ 0.01974662,  0.00187824]], dtype=float32), '<singa.autograd.Matmul object at 0x7f2196660400>1b': array([[0., 0.]], dtype=float32)}\n"
     ]
    }
   ],
   "source": [
    "a={}\n",
    "for i in model.graph.node:    \n",
    "    if(i.op_type == 'Constant'):\n",
    "        a[str(i.output[0])]=numpy_helper.to_array(i.attribute[0].t)\n",
    "        #print(i.output[0])\n",
    "        #print(numpy_helper.to_array(i.attribute[0].t))\n",
    "        #print('----')\n",
    "print(a)\n",
    "with open('tensor.pkl', 'wb') as output:\n",
    "    pickle.dump(a,output, protocol=pickle.HIGHEST_PROTOCOL)"
   ]
  },
  {
   "cell_type": "code",
   "execution_count": 33,
   "metadata": {
    "ExecuteTime": {
     "end_time": "2018-11-01T14:02:13.319347Z",
     "start_time": "2018-11-01T14:02:13.300744Z"
    }
   },
   "outputs": [
    {
     "ename": "EOFError",
     "evalue": "Ran out of input",
     "output_type": "error",
     "traceback": [
      "\u001b[0;31m---------------------------------------------------------------------------\u001b[0m",
      "\u001b[0;31mEOFError\u001b[0m                                  Traceback (most recent call last)",
      "\u001b[0;32m<ipython-input-33-e7953f036c03>\u001b[0m in \u001b[0;36m<module>\u001b[0;34m()\u001b[0m\n\u001b[1;32m      1\u001b[0m \u001b[0;32mwith\u001b[0m \u001b[0mopen\u001b[0m\u001b[0;34m(\u001b[0m\u001b[0;34m'tensor.pkl'\u001b[0m\u001b[0;34m,\u001b[0m \u001b[0;34m'rb'\u001b[0m\u001b[0;34m)\u001b[0m \u001b[0;32mas\u001b[0m \u001b[0minput\u001b[0m\u001b[0;34m:\u001b[0m\u001b[0;34m\u001b[0m\u001b[0m\n\u001b[0;32m----> 2\u001b[0;31m     \u001b[0ma\u001b[0m \u001b[0;34m=\u001b[0m \u001b[0mpickle\u001b[0m\u001b[0;34m.\u001b[0m\u001b[0mload\u001b[0m\u001b[0;34m(\u001b[0m\u001b[0minput\u001b[0m\u001b[0;34m)\u001b[0m\u001b[0;34m\u001b[0m\u001b[0m\n\u001b[0m",
      "\u001b[0;31mEOFError\u001b[0m: Ran out of input"
     ]
    }
   ],
   "source": [
    "with open('tensor.pkl', 'rb') as input:\n",
    "    a = pickle.load(input)"
   ]
  }
 ],
 "metadata": {
  "kernelspec": {
   "display_name": "Python [conda env:anaconda3]",
   "language": "python",
   "name": "conda-env-anaconda3-py"
  },
  "language_info": {
   "codemirror_mode": {
    "name": "ipython",
    "version": 3
   },
   "file_extension": ".py",
   "mimetype": "text/x-python",
   "name": "python",
   "nbconvert_exporter": "python",
   "pygments_lexer": "ipython3",
   "version": "3.6.5"
  }
 },
 "nbformat": 4,
 "nbformat_minor": 2
}
