{
 "cells": [
  {
   "cell_type": "code",
   "execution_count": 1,
   "metadata": {
    "ExecuteTime": {
     "end_time": "2018-10-26T06:54:05.836560Z",
     "start_time": "2018-10-26T06:54:05.601258Z"
    }
   },
   "outputs": [],
   "source": [
    "import numpy as np"
   ]
  },
  {
   "cell_type": "code",
   "execution_count": 8,
   "metadata": {
    "ExecuteTime": {
     "end_time": "2018-10-26T06:55:46.685675Z",
     "start_time": "2018-10-26T06:55:46.682148Z"
    }
   },
   "outputs": [
    {
     "data": {
      "text/plain": [
       "['f', 's']"
      ]
     },
     "execution_count": 8,
     "metadata": {},
     "output_type": "execute_result"
    }
   ],
   "source": [
    "myList = ['f','a','s']\n",
    "del myList[1]\n",
    "myList"
   ]
  },
  {
   "cell_type": "code",
   "execution_count": 7,
   "metadata": {
    "ExecuteTime": {
     "end_time": "2018-10-26T06:55:41.929810Z",
     "start_time": "2018-10-26T06:55:41.918717Z"
    }
   },
   "outputs": [
    {
     "data": {
      "text/plain": [
       "['f', 's']"
      ]
     },
     "execution_count": 7,
     "metadata": {},
     "output_type": "execute_result"
    }
   ],
   "source": [
    "myList = ['f','a','s']\n",
    "myList.remove('a') \n",
    "myList"
   ]
  },
  {
   "cell_type": "code",
   "execution_count": 6,
   "metadata": {
    "ExecuteTime": {
     "end_time": "2018-10-26T06:55:36.045184Z",
     "start_time": "2018-10-26T06:55:36.040975Z"
    }
   },
   "outputs": [
    {
     "data": {
      "text/plain": [
       "['f', 's']"
      ]
     },
     "execution_count": 6,
     "metadata": {},
     "output_type": "execute_result"
    }
   ],
   "source": [
    "myList = ['f','a','s']\n",
    "myList.pop(1) \n",
    "myList\n"
   ]
  },
  {
   "cell_type": "code",
   "execution_count": 83,
   "metadata": {
    "ExecuteTime": {
     "end_time": "2018-10-26T07:45:00.306322Z",
     "start_time": "2018-10-26T07:45:00.300962Z"
    }
   },
   "outputs": [],
   "source": [
    "class myNum:\n",
    "    def __init__(self, ar):\n",
    "        self.a = ar\n",
    "    def __eq__(self, other):\n",
    "        return self.a[0] == other.a[0] and self.a[1] == other.a[1] and \\\n",
    "                (self.a[2] == other.a[2]).all() and (self.a[3] == other.a[3]).all()\n",
    "    def __repr__(self):\n",
    "         return '('+self.a[0]+','+self.a[1]+','+np.array2string(self.a[2])+','+np.array2string(self.a[3])+')'\n",
    "    def __str__(self):\n",
    "         return '('+self.a[0]+','+self.a[1]+','+np.array2string(self.a[2])+','+np.array2string(self.a[3])+')'"
   ]
  },
  {
   "cell_type": "code",
   "execution_count": 84,
   "metadata": {
    "ExecuteTime": {
     "end_time": "2018-10-26T07:45:00.604757Z",
     "start_time": "2018-10-26T07:45:00.594724Z"
    }
   },
   "outputs": [
    {
     "data": {
      "text/plain": [
       "True"
      ]
     },
     "execution_count": 84,
     "metadata": {},
     "output_type": "execute_result"
    }
   ],
   "source": [
    "a1 = myNum(('0','1',np.array([1,2]),np.array([3,4])))\n",
    "a2 = myNum(('0','1',np.array([1,2]),np.array([3,4])))\n",
    "a3 = myNum(('2','3',np.array([1,2]),np.array([3,4])))\n",
    "a4 = myNum(('4','5',np.array([1,2]),np.array([3,4])))\n",
    "a1 == a2"
   ]
  },
  {
   "cell_type": "code",
   "execution_count": 85,
   "metadata": {
    "ExecuteTime": {
     "end_time": "2018-10-26T07:45:00.777503Z",
     "start_time": "2018-10-26T07:45:00.769955Z"
    }
   },
   "outputs": [
    {
     "data": {
      "text/plain": [
       "[(2,3,[1 2],[3 4]), (4,5,[1 2],[3 4])]"
      ]
     },
     "execution_count": 85,
     "metadata": {},
     "output_type": "execute_result"
    }
   ],
   "source": [
    "myList = [a1,a3,a4]\n",
    "myList.remove(a2)\n",
    "myList"
   ]
  },
  {
   "cell_type": "code",
   "execution_count": null,
   "metadata": {},
   "outputs": [],
   "source": []
  },
  {
   "cell_type": "code",
   "execution_count": 29,
   "metadata": {
    "ExecuteTime": {
     "end_time": "2018-10-26T07:17:25.481609Z",
     "start_time": "2018-10-26T07:17:25.477584Z"
    }
   },
   "outputs": [],
   "source": [
    "mylist=np.arange(50).reshape((5,10))\n",
    "whichtokeep=np.ones((5))"
   ]
  },
  {
   "cell_type": "code",
   "execution_count": 30,
   "metadata": {
    "ExecuteTime": {
     "end_time": "2018-10-26T07:17:25.867911Z",
     "start_time": "2018-10-26T07:17:25.863503Z"
    }
   },
   "outputs": [],
   "source": [
    "#if delete first rows set whichtokeep[0]=0\n",
    "#if delete third rows set whichtokeep[3]=0\n",
    "whichtokeep[0] = whichtokeep[3] = 0\n"
   ]
  },
  {
   "cell_type": "code",
   "execution_count": 31,
   "metadata": {
    "ExecuteTime": {
     "end_time": "2018-10-26T07:17:26.272638Z",
     "start_time": "2018-10-26T07:17:26.263629Z"
    }
   },
   "outputs": [
    {
     "data": {
      "text/plain": [
       "array([False,  True,  True, False,  True])"
      ]
     },
     "execution_count": 31,
     "metadata": {},
     "output_type": "execute_result"
    }
   ],
   "source": [
    "whichtokeep.astype(bool)"
   ]
  },
  {
   "cell_type": "code",
   "execution_count": 32,
   "metadata": {
    "ExecuteTime": {
     "end_time": "2018-10-26T07:17:26.805695Z",
     "start_time": "2018-10-26T07:17:26.794930Z"
    }
   },
   "outputs": [
    {
     "data": {
      "text/plain": [
       "array([[10, 11, 12, 13, 14, 15, 16, 17, 18, 19],\n",
       "       [20, 21, 22, 23, 24, 25, 26, 27, 28, 29],\n",
       "       [40, 41, 42, 43, 44, 45, 46, 47, 48, 49]])"
      ]
     },
     "execution_count": 32,
     "metadata": {},
     "output_type": "execute_result"
    }
   ],
   "source": [
    "mylist[whichtokeep.astype(bool)]"
   ]
  },
  {
   "cell_type": "code",
   "execution_count": null,
   "metadata": {},
   "outputs": [],
   "source": []
  }
 ],
 "metadata": {
  "kernelspec": {
   "display_name": "Python [conda root]",
   "language": "python",
   "name": "conda-root-py"
  },
  "language_info": {
   "codemirror_mode": {
    "name": "ipython",
    "version": 3
   },
   "file_extension": ".py",
   "mimetype": "text/x-python",
   "name": "python",
   "nbconvert_exporter": "python",
   "pygments_lexer": "ipython3",
   "version": "3.6.5"
  }
 },
 "nbformat": 4,
 "nbformat_minor": 2
}
